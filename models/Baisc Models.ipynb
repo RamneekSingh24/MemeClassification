{
  "nbformat": 4,
  "nbformat_minor": 0,
  "metadata": {
    "colab": {
      "name": "Report_DM1.ipynb",
      "provenance": []
    },
    "kernelspec": {
      "name": "python3",
      "display_name": "Python 3"
    },
    "language_info": {
      "name": "python"
    }
  },
  "cells": [
    {
      "cell_type": "code",
      "metadata": {
        "id": "5SXAka8KPftB"
      },
      "source": [
        "import pandas as pd\n",
        "import numpy as np\n",
        "import matplotlib.pyplot as plt\n",
        "import seaborn as sb\n",
        "PATH = '/content/drive/MyDrive/meme_classification_data/'"
      ],
      "execution_count": 13,
      "outputs": []
    },
    {
      "cell_type": "markdown",
      "metadata": {
        "id": "nPeWJiIJPvVD"
      },
      "source": [
        "#Data Exploration \n"
      ]
    },
    {
      "cell_type": "code",
      "metadata": {
        "colab": {
          "base_uri": "https://localhost:8080/",
          "height": 137
        },
        "id": "q0HP68mcPo3z",
        "outputId": "7b168a63-26bc-45ca-aea6-b1434aef03ce"
      },
      "source": [
        "data  = pd.read_csv(PATH+'train.csv')\n",
        "data.head(3)"
      ],
      "execution_count": 15,
      "outputs": [
        {
          "output_type": "execute_result",
          "data": {
            "text/html": [
              "<div>\n",
              "<style scoped>\n",
              "    .dataframe tbody tr th:only-of-type {\n",
              "        vertical-align: middle;\n",
              "    }\n",
              "\n",
              "    .dataframe tbody tr th {\n",
              "        vertical-align: top;\n",
              "    }\n",
              "\n",
              "    .dataframe thead th {\n",
              "        text-align: right;\n",
              "    }\n",
              "</style>\n",
              "<table border=\"1\" class=\"dataframe\">\n",
              "  <thead>\n",
              "    <tr style=\"text-align: right;\">\n",
              "      <th></th>\n",
              "      <th>ID</th>\n",
              "      <th>image id</th>\n",
              "      <th>text</th>\n",
              "      <th>label</th>\n",
              "      <th>label_num</th>\n",
              "    </tr>\n",
              "  </thead>\n",
              "  <tbody>\n",
              "    <tr>\n",
              "      <th>0</th>\n",
              "      <td>1</td>\n",
              "      <td>image_2455.jpg</td>\n",
              "      <td>- It is not our fight - Are we not part of thi...</td>\n",
              "      <td>troll</td>\n",
              "      <td>2</td>\n",
              "    </tr>\n",
              "    <tr>\n",
              "      <th>1</th>\n",
              "      <td>2</td>\n",
              "      <td>image_3701.jpg</td>\n",
              "      <td>THAT'S THE DIFFERENCE BETWEEN YOU AND ME  YOU...</td>\n",
              "      <td>none</td>\n",
              "      <td>0</td>\n",
              "    </tr>\n",
              "    <tr>\n",
              "      <th>2</th>\n",
              "      <td>3</td>\n",
              "      <td>image_4166.png</td>\n",
              "      <td>- WHAT DO THE TITANIC AND THE SIXTH SENSE HAVE...</td>\n",
              "      <td>none</td>\n",
              "      <td>0</td>\n",
              "    </tr>\n",
              "  </tbody>\n",
              "</table>\n",
              "</div>"
            ],
            "text/plain": [
              "   ID        image id  ...  label label_num\n",
              "0   1  image_2455.jpg  ...  troll         2\n",
              "1   2  image_3701.jpg  ...   none         0\n",
              "2   3  image_4166.png  ...   none         0\n",
              "\n",
              "[3 rows x 5 columns]"
            ]
          },
          "metadata": {
            "tags": []
          },
          "execution_count": 15
        }
      ]
    },
    {
      "cell_type": "code",
      "metadata": {
        "colab": {
          "base_uri": "https://localhost:8080/"
        },
        "id": "g6NtD2OMQdnd",
        "outputId": "8ed8d44b-5259-4526-c667-a1d7faa26738"
      },
      "source": [
        "data.isnull().sum()"
      ],
      "execution_count": 16,
      "outputs": [
        {
          "output_type": "execute_result",
          "data": {
            "text/plain": [
              "ID           0\n",
              "image id     0\n",
              "text         0\n",
              "label        0\n",
              "label_num    0\n",
              "dtype: int64"
            ]
          },
          "metadata": {
            "tags": []
          },
          "execution_count": 16
        }
      ]
    },
    {
      "cell_type": "code",
      "metadata": {
        "colab": {
          "base_uri": "https://localhost:8080/",
          "height": 487
        },
        "id": "Gu-HyXR0Qi46",
        "outputId": "033636e6-7e54-417e-ac30-9bbc4e7aa033"
      },
      "source": [
        "import nltk\n",
        "from wordcloud import WordCloud\n",
        "allwords = \" \".join(data['text'].values)\n",
        "word_cloud = WordCloud().generate(allwords)\n",
        "\n",
        "word_cloud = WordCloud(width=800,height=800,\n",
        "                       background_color='white',\n",
        "                       max_words=150).\\\n",
        "generate(allwords)\n",
        "\n",
        "plt.figure(figsize=[8,8])\n",
        "plt.imshow(word_cloud)\n",
        "plt.show()"
      ],
      "execution_count": 17,
      "outputs": [
        {
          "output_type": "display_data",
          "data": {
            "image/png": "[encoded data removed]",
            "text/plain": [
              "<Figure size 576x576 with 1 Axes>"
            ]
          },
          "metadata": {
            "tags": [],
            "needs_background": "light"
          }
        }
      ]
    },
    {
      "cell_type": "markdown",
      "metadata": {
        "id": "11ZG2e1ZQ2Bj"
      },
      "source": [
        "#Text Cleaning"
      ]
    },
    {
      "cell_type": "code",
      "metadata": {
        "colab": {
          "base_uri": "https://localhost:8080/"
        },
        "id": "uKunj2EAQ9q1",
        "outputId": "3e95598a-1e38-4464-fbcf-79b615fe6726"
      },
      "source": [
        "from tqdm import tqdm\n",
        "from string import punctuation\n",
        "from nltk.corpus import stopwords\n",
        "from nltk.tokenize import sent_tokenize, word_tokenize\n",
        "nltk.download('punkt')\n",
        "nltk.download('punkt')\n",
        "nltk.download('wordnet')"
      ],
      "execution_count": 18,
      "outputs": [
        {
          "output_type": "stream",
          "text": [
            "[nltk_data] Downloading package punkt to /root/nltk_data...\n",
            "[nltk_data]   Package punkt is already up-to-date!\n",
            "[nltk_data] Downloading package punkt to /root/nltk_data...\n",
            "[nltk_data]   Package punkt is already up-to-date!\n",
            "[nltk_data] Downloading package wordnet to /root/nltk_data...\n",
            "[nltk_data]   Package wordnet is already up-to-date!\n"
          ],
          "name": "stdout"
        },
        {
          "output_type": "execute_result",
          "data": {
            "text/plain": [
              "True"
            ]
          },
          "metadata": {
            "tags": []
          },
          "execution_count": 18
        }
      ]
    },
    {
      "cell_type": "markdown",
      "metadata": {
        "id": "wZRSgbmaRqDF"
      },
      "source": [
        "###Contractions"
      ]
    },
    {
      "cell_type": "code",
      "metadata": {
        "id": "PsYbtYoMRYi8"
      },
      "source": [
        "contractions = {\n",
        "\"ain't\": \"are not\",\n",
        "\"aren't\": \"are not\",\n",
        "\"can't\": \"can not\",\n",
        "\"can't've\": \"can not have\",\n",
        "\"'cause\": \"because\",\n",
        "\"could've\": \"could have\",\n",
        "\"couldn't\": \"could not\",\n",
        "\"couldn't've\": \"could not have\",\n",
        "\"didn't\": \"did not\",\n",
        "\"doesn't\": \"does not\",\n",
        "\"don't\": \"do not\",\n",
        "\"hadn't\": \"had not\",\n",
        "\"hadn't've\": \"had not have\",\n",
        "\"hasn't\": \"has not\",\n",
        "\"haven't\": \"have not\",\n",
        "\"he'd\": \"he would\",\n",
        "\"he'd've\": \"he would have\",\n",
        "\"he'll\": \"he will\",\n",
        "\"he'll've\": \"he will have\",\n",
        "\"he's\": \"he is\",\n",
        "\"how'd\": \"how did\",\n",
        "\"how'd'y\": \"how do you\",\n",
        "\"how'll\": \"how will\",\n",
        "\"how's\": \"how is\",\n",
        "\"i'd\": \"I would\",\n",
        "\"i'd've\": \"I would have\",\n",
        "\"i'll\": \"I will\",\n",
        "\"i'll've\": \"I will have\",\n",
        "\"i'm\": \"I am\",\n",
        "\"i've\": \"I have\",\n",
        "\"isn't\": \"is not\",\n",
        "\"it'd\": \"it would\",\n",
        "\"it'd've\": \"it would have\",\n",
        "\"it'll\": \"it will\",\n",
        "\"it'll've\": \"it will have\",\n",
        "\"it's\": \"it is\",\n",
        "\"let's\": \"let us\",\n",
        "\"ma'am\": \"madam\",\n",
        "\"mayn't\": \"may not\",\n",
        "\"might've\": \"might have\",\n",
        "\"mightn't\": \"might not\",\n",
        "\"mightn't've\": \"might not have\",\n",
        "\"must've\": \"must have\",\n",
        "\"mustn't\": \"must not\",\n",
        "\"mustn't've\": \"must not have\",\n",
        "\"needn't\": \"need not\",\n",
        "\"needn't've\": \"need not have\",\n",
        "\"o'clock\": \"of the clock\",\n",
        "\"oughtn't\": \"ought not\",\n",
        "\"oughtn't've\": \"ought not have\",\n",
        "\"shan't\": \"shall not\",\n",
        "\"sha'n't\": \"shall not\",\n",
        "\"shan't've\": \"shall not have\",\n",
        "\"she'd\": \"she would\",\n",
        "\"she'd've\": \"she would have\",\n",
        "\"she'll\": \"she will\",\n",
        "\"she'll've\": \"she will have\",\n",
        "\"she's\": \"she is\",\n",
        "\"should've\": \"should have\",\n",
        "\"shouldn't\": \"should not\",\n",
        "\"shouldn't've\": \"should not have\",\n",
        "\"so've\": \"so have\",\n",
        "\"so's\": \"so is\",\n",
        "\"that'd\": \"that had\",\n",
        "\"that'd've\": \"that would have\",\n",
        "\"that's\": \"that is\",\n",
        "\"there'd\": \"there would\",\n",
        "\"there'd've\": \"there would have\",\n",
        "\"there's\": \"there is\",\n",
        "\"they'd\": \"they would\",\n",
        "\"they'd've\": \"they would have\",\n",
        "\"they'll\": \"they will\",\n",
        "\"they'll've\": \"they will have\",\n",
        "\"they're\": \"they are\",\n",
        "\"they've\": \"they have\",\n",
        "\"to've\": \"to have\",\n",
        "\"wasn't\": \"was not\",\n",
        "\"we'd\": \"we would\",\n",
        "\"we'd've\": \"we would have\",\n",
        "\"we'll\": \"we will\",\n",
        "\"we'll've\": \"we will have\",\n",
        "\"we're\": \"we are\",\n",
        "\"we've\": \"we have\",\n",
        "\"weren't\": \"were not\",\n",
        "\"what'll\": \"what will\",\n",
        "\"what'll've\": \"what will have\",\n",
        "\"what're\": \"what are\",\n",
        "\"what's\": \"what is\",\n",
        "\"what've\": \"what have\",\n",
        "\"when's\": \"when is\",\n",
        "\"when've\": \"when have\",\n",
        "\"where'd\": \"where did\",\n",
        "\"where's\": \"where is\",\n",
        "\"where've\": \"where have\",\n",
        "\"who'll\": \"who will\",\n",
        "\"who'll've\": \"who will have\",\n",
        "\"who's\": \"who is\",\n",
        "\"who've\": \"who have\",\n",
        "\"why's\": \"why is\",\n",
        "\"why've\": \"why have\",\n",
        "\"will've\": \"will have\",\n",
        "\"won't\": \"will not\",\n",
        "\"won't've\": \"will not have\",\n",
        "\"would've\": \"would have\",\n",
        "\"wouldn't\": \"would not\",\n",
        "\"wouldn't've\": \"would not have\",\n",
        "\"y'all\": \"you all\",\n",
        "\"y'all'd\": \"you all would\",\n",
        "\"y'all'd've\": \"you all would have\",\n",
        "\"y'all're\": \"you all are\",\n",
        "\"y'all've\": \"you all have\",\n",
        "\"you'd\": \"you would\",\n",
        "\"you'd've\": \"you would have\",\n",
        "\"you'll\": \"you will\",\n",
        "\"you'll've\": \"you will have\",\n",
        "\"you're\": \"you are\",\n",
        "\"you've\": \"you have\"\n",
        "}"
      ],
      "execution_count": 19,
      "outputs": []
    },
    {
      "cell_type": "markdown",
      "metadata": {
        "id": "a0ZMAXW8RyeD"
      },
      "source": [
        "###All Stop Words from nltk library"
      ]
    },
    {
      "cell_type": "code",
      "metadata": {
        "id": "jFELgmodR4Nt"
      },
      "source": [
        "from nltk.corpus import stopwords\n",
        "all_stop_words = \\\n",
        "['i',\n",
        " 'me',\n",
        " 'my',\n",
        " 'myself',\n",
        " 'we',\n",
        " 'our',\n",
        " 'ours',\n",
        " 'ourselves',\n",
        " 'you',\n",
        " \"you're\",\n",
        " \"you've\",\n",
        " \"you'll\",\n",
        " \"you'd\",\n",
        " 'your',\n",
        " 'yours',\n",
        " 'yourself',\n",
        " 'yourselves',\n",
        " 'he',\n",
        " 'him',\n",
        " 'his',\n",
        " 'himself',\n",
        " 'she',\n",
        " \"she's\",\n",
        " 'her',\n",
        " 'hers',\n",
        " 'herself',\n",
        " 'it',\n",
        " \"it's\",\n",
        " 'its',\n",
        " 'itself',\n",
        " 'they',\n",
        " 'them',\n",
        " 'their',\n",
        " 'theirs',\n",
        " 'themselves',\n",
        " 'what',\n",
        " 'which',\n",
        " 'who',\n",
        " 'whom',\n",
        " 'this',\n",
        " 'that',\n",
        " \"that'll\",\n",
        " 'these',\n",
        " 'those',\n",
        " 'am',\n",
        " 'is',\n",
        " 'are',\n",
        " 'was',\n",
        " 'were',\n",
        " 'be',\n",
        " 'been',\n",
        " 'being',\n",
        " 'have',\n",
        " 'has',\n",
        " 'had',\n",
        " 'having',\n",
        " 'do',\n",
        " 'does',\n",
        " 'did',\n",
        " 'doing',\n",
        " 'a',\n",
        " 'an',\n",
        " 'the',\n",
        " 'and',\n",
        " 'but',\n",
        " 'if',\n",
        " 'or',\n",
        " 'because',\n",
        " 'as',\n",
        " 'until',\n",
        " 'while',\n",
        " 'of',\n",
        " 'at',\n",
        " 'by',\n",
        " 'for',\n",
        " 'with',\n",
        " 'about',\n",
        " 'against',\n",
        " 'between',\n",
        " 'into',\n",
        " 'through',\n",
        " 'during',\n",
        " 'before',\n",
        " 'after',\n",
        " 'above',\n",
        " 'below',\n",
        " 'to',\n",
        " 'from',\n",
        " 'up',\n",
        " 'down',\n",
        " 'in',\n",
        " 'out',\n",
        " 'on',\n",
        " 'off',\n",
        " 'over',\n",
        " 'under',\n",
        " 'again',\n",
        " 'further',\n",
        " 'then',\n",
        " 'once',\n",
        " 'here',\n",
        " 'there',\n",
        " 'when',\n",
        " 'where',\n",
        " 'why',\n",
        " 'how',\n",
        " 'all',\n",
        " 'any',\n",
        " 'both',\n",
        " 'each',\n",
        " 'few',\n",
        " 'more',\n",
        " 'most',\n",
        " 'other',\n",
        " 'some',\n",
        " 'such',\n",
        " 'no',\n",
        " 'nor',\n",
        " 'not',\n",
        " 'only',\n",
        " 'own',\n",
        " 'same',\n",
        " 'so',\n",
        " 'than',\n",
        " 'too',\n",
        " 'very',\n",
        " 's',\n",
        " 't',\n",
        " 'can',\n",
        " 'will',\n",
        " 'just',\n",
        " 'don',\n",
        " \"don't\",\n",
        " 'should',\n",
        " \"should've\",\n",
        " 'now',\n",
        " 'd',\n",
        " 'll',\n",
        " 'm',\n",
        " 'o',\n",
        " 're',\n",
        " 've',\n",
        " 'y',\n",
        " 'ain',\n",
        " 'aren',\n",
        " \"aren't\",\n",
        " 'couldn',\n",
        " \"couldn't\",\n",
        " 'didn',\n",
        " \"didn't\",\n",
        " 'doesn',\n",
        " \"doesn't\",\n",
        " 'hadn',\n",
        " \"hadn't\",\n",
        " 'hasn',\n",
        " \"hasn't\",\n",
        " 'haven',\n",
        " \"haven't\",\n",
        " 'isn',\n",
        " \"isn't\",\n",
        " 'ma',\n",
        " 'mightn',\n",
        " \"mightn't\",\n",
        " 'mustn',\n",
        " \"mustn't\",\n",
        " 'needn',\n",
        " \"needn't\",\n",
        " 'shan',\n",
        " \"shan't\",\n",
        " 'shouldn',\n",
        " \"shouldn't\",\n",
        " 'wasn',\n",
        " \"wasn't\",\n",
        " 'weren',\n",
        " \"weren't\",\n",
        " 'won',\n",
        " \"won't\",\n",
        " 'wouldn',\n",
        " \"wouldn't\"]"
      ],
      "execution_count": 20,
      "outputs": []
    },
    {
      "cell_type": "markdown",
      "metadata": {
        "id": "EaKHFTw6R7F8"
      },
      "source": [
        "###Custom Stop words \n",
        "####Removed negations, quantifiers and some others from list of all stop words manually."
      ]
    },
    {
      "cell_type": "code",
      "metadata": {
        "id": "-RAHZJivSTb8"
      },
      "source": [
        "# removed negations, quantifiers and some others\n",
        "custom_stop_words = \\\n",
        "['i',\n",
        " 'me',\n",
        " 'my',\n",
        " 'myself',\n",
        " 'we',\n",
        " 'our',\n",
        " 'ours',\n",
        " 'ourselves',\n",
        " 'you',\n",
        " \"you're\",\n",
        " \"you've\",\n",
        " \"you'll\",\n",
        " \"you'd\",\n",
        " 'your',\n",
        " 'yours',\n",
        " 'yourself',\n",
        " 'yourselves',\n",
        " 'he',\n",
        " 'him',\n",
        " 'his',\n",
        " 'himself',\n",
        " 'she',\n",
        " \"she's\",\n",
        " 'her',\n",
        " 'hers',\n",
        " 'herself',\n",
        " 'it',\n",
        " \"it's\",\n",
        " 'its',\n",
        " 'itself',\n",
        " 'they',\n",
        " 'them',\n",
        " 'their',\n",
        " 'theirs',\n",
        " 'themselves',\n",
        " 'what',\n",
        " 'which',\n",
        " 'who',\n",
        " 'whom',\n",
        " 'this',\n",
        " 'that',\n",
        " \"that'll\",\n",
        " 'these',\n",
        " 'those',\n",
        " 'am',\n",
        " 'is',\n",
        " 'are',\n",
        " 'was',\n",
        " 'were',\n",
        " 'be',\n",
        " 'been',\n",
        " 'being',\n",
        " 'have',\n",
        " 'has',\n",
        " 'had',\n",
        " 'having',\n",
        " 'do',\n",
        " 'does',\n",
        " 'did',\n",
        " 'doing',\n",
        " 'a',\n",
        " 'an',\n",
        " 'the',\n",
        " 'and',\n",
        " 'but',\n",
        " 'if',\n",
        " 'or',\n",
        " 'because',\n",
        " 'as',\n",
        " 'until',\n",
        " 'while',\n",
        " 'of',\n",
        " 'at',\n",
        " 'by',\n",
        " 'for',\n",
        " 'with',\n",
        " 'about',\n",
        " 'against',\n",
        " 'between',\n",
        " 'into',\n",
        " 'through',\n",
        " 'during',\n",
        " 'before',\n",
        " 'after',\n",
        " 'above',\n",
        " 'below',\n",
        " 'to',\n",
        " 'from',\n",
        " 'up',\n",
        " 'down',\n",
        " 'in',\n",
        " 'out',\n",
        " 'on',\n",
        " 'off',\n",
        " 'over',\n",
        " 'under',\n",
        " 'again',\n",
        " 'further',\n",
        " 'then',\n",
        " 'once',\n",
        " 'here',\n",
        " 'there',\n",
        " 'when',\n",
        " 'where',\n",
        " 'why',\n",
        " 'how',\n",
        " 'few',\n",
        " 'more',\n",
        " 'most',\n",
        " 'so',\n",
        " 'than',\n",
        " 's',\n",
        " 't',\n",
        " 'can',\n",
        " 'will',\n",
        " 'don',\n",
        " \"don't\",\n",
        " 'should',\n",
        " \"should've\",\n",
        " 'now',\n",
        " 'd',\n",
        " 'll',\n",
        " 'm',\n",
        " 'o',\n",
        " 're',\n",
        " 've',\n",
        " 'y',\n",
        " 'ain',\n",
        " 'aren',\n",
        " \"aren't\",\n",
        " 'couldn',\n",
        " \"couldn't\",\n",
        " 'didn',\n",
        " \"didn't\",\n",
        " 'doesn',\n",
        " \"doesn't\",\n",
        " 'hadn',\n",
        " \"hadn't\",\n",
        " 'hasn',\n",
        " \"hasn't\",\n",
        " 'haven',\n",
        " \"haven't\",\n",
        " 'isn',\n",
        " \"isn't\",\n",
        " 'ma',\n",
        " 'mightn',\n",
        " \"mightn't\",\n",
        " 'mustn',\n",
        " \"mustn't\",\n",
        " 'needn',\n",
        " \"needn't\",\n",
        " 'shan',\n",
        " \"shan't\",\n",
        " 'shouldn',\n",
        " \"shouldn't\",\n",
        " 'wasn',\n",
        " \"wasn't\",\n",
        " 'weren',\n",
        " \"weren't\",\n",
        " 'won',\n",
        " \"won't\",\n",
        " 'wouldn',\n",
        " \"wouldn't\"]\n"
      ],
      "execution_count": 21,
      "outputs": []
    },
    {
      "cell_type": "markdown",
      "metadata": {
        "id": "IJWkOsgITE_V"
      },
      "source": [
        "###Functions for Text Cleaning"
      ]
    },
    {
      "cell_type": "code",
      "metadata": {
        "id": "R5orvFmDSiD1"
      },
      "source": [
        "import re\n",
        "from nltk.stem import PorterStemmer\n",
        "ps = PorterStemmer()\n",
        "custom_stop_words_base = [ps.stem(w) for w in custom_stop_words]\n",
        "all_stop_words_base = [ps.stem(w) for w in all_stop_words]\n",
        "\n",
        "def expand_short_forms(word):\n",
        "    if(word.lower() in contractions):\n",
        "        return contractions[word.lower()]\n",
        "    else:\n",
        "        return word\n",
        "\n",
        "def remove_special_chars_except_apostrophe(sentence):\n",
        "    return re.sub(r\"[^\\w\\d'\\s]+\",'',sentence.lower())\n",
        "\n",
        "# remove special chars\n",
        "# split into words\n",
        "# get base form of words\n",
        "# expand short forms\n",
        "\n",
        "def clean_text_keep_stop_words(text):\n",
        "    sent = re.sub(r\"[^\\w\\d'\\s]+\",'',text.lower()) # remove special chars excecpt apostrophe\n",
        "    words = sent.split() \n",
        "    base_words = [ps.stem(w) for w in words] # get stem words\n",
        "    \n",
        "    base_words_expanded = []\n",
        "    for w in base_words:\n",
        "        if w in contractions:\n",
        "            base_words_expanded.append(contractions[w])\n",
        "        else:\n",
        "            base_words_expanded.append(w)\n",
        "        \n",
        "        sent = \" \".join(base_words_expanded)\n",
        "            \n",
        "    return sent\n",
        "\n",
        "def clean_text_and_custom_stop_words(text):\n",
        "    sent = clean_text_keep_stop_words(text)\n",
        "    words = sent.split()\n",
        "    clean_words = []\n",
        "    for w in words:\n",
        "        if w not in custom_stop_words_base:\n",
        "            clean_words.append(w)\n",
        "    \n",
        "    sent = \" \".join(clean_words)       \n",
        "    return sent\n",
        "\n",
        "def clean_text_and_all_stop_words(text):\n",
        "    sent = clean_text_keep_stop_words(text)\n",
        "    words = sent.split()\n",
        "    clean_words = []\n",
        "    for w in words:\n",
        "        if w not in all_stop_words_base:\n",
        "            clean_words.append(w)\n",
        "    \n",
        "    sent = \" \".join(clean_words)       \n",
        "    return sent\n",
        "\n",
        "filter_words = [\"meme\", \"http\", \"www\"]\n",
        "def filter_words_after_cleaning(text):\n",
        "    words = text.split()\n",
        "    filtered_words = []\n",
        "    for w in words:\n",
        "        flg = 0\n",
        "        for fw in filter_words:\n",
        "            if fw in w:\n",
        "                flg = 1\n",
        "                break\n",
        "            if 'com' in w and len(w) > 7:\n",
        "                flg = 1\n",
        "        \n",
        "        if flg == 0:\n",
        "            filtered_words.append(w)\n",
        "        \n",
        "    sent = \" \".join(filtered_words)\n",
        "    return sent"
      ],
      "execution_count": 23,
      "outputs": []
    },
    {
      "cell_type": "markdown",
      "metadata": {
        "id": "3ISREKUDc3k7"
      },
      "source": [
        "### Final Data After Cleaning"
      ]
    },
    {
      "cell_type": "code",
      "metadata": {
        "id": "LWNyVtL3c-Ba"
      },
      "source": [
        "new_data1 = pd.read_csv(PATH+'train.csv') # with all stop words\n",
        "new_data2 = pd.read_csv(PATH+'train.csv') # without custom stop words\n",
        "new_data3 = pd.read_csv(PATH+'train.csv') # without all stop words\n",
        "new_data1['clean text'] = new_data1['text'].apply(clean_text_keep_stop_words)\n",
        "new_data2['clean text'] = new_data2['text'].apply(clean_text_and_custom_stop_words)\n",
        "new_data3['clean text'] = new_data3['text'].apply(clean_text_and_all_stop_words)\n",
        "new_data1['clean text final'] = new_data1['clean text'].apply(filter_words_after_cleaning)        \n",
        "new_data2['clean text final'] = new_data2['clean text'].apply(filter_words_after_cleaning)\n",
        "new_data3['clean text final'] = new_data3['clean text'].apply(filter_words_after_cleaning)\n",
        "new_data1.drop(['text', 'label', 'clean text'], axis = 1, inplace = True)\n",
        "new_data2.drop(['text', 'label', 'clean text'], axis = 1, inplace = True)\n",
        "new_data3.drop(['text', 'label', 'clean text'], axis = 1, inplace = True)\n",
        "new_data1.rename(columns={'label_num' : 'label', 'clean text final' : 'text'}, inplace = True)\n",
        "new_data2.rename(columns={'label_num' : 'label', 'clean text final' : 'text'}, inplace = True)\n",
        "new_data3.rename(columns={'label_num' : 'label', 'clean text final' : 'text'}, inplace = True)"
      ],
      "execution_count": 27,
      "outputs": []
    },
    {
      "cell_type": "markdown",
      "metadata": {
        "id": "_taBCX-CdFlL"
      },
      "source": [
        "#### CleanedText1, with all stop words\n"
      ]
    },
    {
      "cell_type": "code",
      "metadata": {
        "colab": {
          "base_uri": "https://localhost:8080/",
          "height": 197
        },
        "id": "QKnSKCKtdO8j",
        "outputId": "ecefb21a-6f4c-45d9-8b90-c4cb4f2fd4cc"
      },
      "source": [
        "new_data1.head()"
      ],
      "execution_count": 85,
      "outputs": [
        {
          "output_type": "execute_result",
          "data": {
            "text/html": [
              "<div>\n",
              "<style scoped>\n",
              "    .dataframe tbody tr th:only-of-type {\n",
              "        vertical-align: middle;\n",
              "    }\n",
              "\n",
              "    .dataframe tbody tr th {\n",
              "        vertical-align: top;\n",
              "    }\n",
              "\n",
              "    .dataframe thead th {\n",
              "        text-align: right;\n",
              "    }\n",
              "</style>\n",
              "<table border=\"1\" class=\"dataframe\">\n",
              "  <thead>\n",
              "    <tr style=\"text-align: right;\">\n",
              "      <th></th>\n",
              "      <th>ID</th>\n",
              "      <th>image id</th>\n",
              "      <th>label</th>\n",
              "      <th>text</th>\n",
              "      <th>Snt Ana Label</th>\n",
              "    </tr>\n",
              "  </thead>\n",
              "  <tbody>\n",
              "    <tr>\n",
              "      <th>0</th>\n",
              "      <td>1</td>\n",
              "      <td>image_2455.jpg</td>\n",
              "      <td>2</td>\n",
              "      <td>it is not our fight are we not part of thi wor...</td>\n",
              "      <td>0</td>\n",
              "    </tr>\n",
              "    <tr>\n",
              "      <th>1</th>\n",
              "      <td>2</td>\n",
              "      <td>image_3701.jpg</td>\n",
              "      <td>0</td>\n",
              "      <td>that' the differ between you and me you wanna ...</td>\n",
              "      <td>1</td>\n",
              "    </tr>\n",
              "    <tr>\n",
              "      <th>2</th>\n",
              "      <td>3</td>\n",
              "      <td>image_4166.png</td>\n",
              "      <td>0</td>\n",
              "      <td>what do the titan and the sixth sens have in c...</td>\n",
              "      <td>2</td>\n",
              "    </tr>\n",
              "    <tr>\n",
              "      <th>3</th>\n",
              "      <td>4</td>\n",
              "      <td>448_image_batch_2.png</td>\n",
              "      <td>2</td>\n",
              "      <td>come on man you know the thing just ask my wif...</td>\n",
              "      <td>0</td>\n",
              "    </tr>\n",
              "    <tr>\n",
              "      <th>4</th>\n",
              "      <td>5</td>\n",
              "      <td>653_image_batch_2.png</td>\n",
              "      <td>0</td>\n",
              "      <td>those who believ without reason cannot be conv...</td>\n",
              "      <td>0</td>\n",
              "    </tr>\n",
              "  </tbody>\n",
              "</table>\n",
              "</div>"
            ],
            "text/plain": [
              "   ID  ... Snt Ana Label\n",
              "0   1  ...             0\n",
              "1   2  ...             1\n",
              "2   3  ...             2\n",
              "3   4  ...             0\n",
              "4   5  ...             0\n",
              "\n",
              "[5 rows x 5 columns]"
            ]
          },
          "metadata": {
            "tags": []
          },
          "execution_count": 85
        }
      ]
    },
    {
      "cell_type": "markdown",
      "metadata": {
        "id": "yNxSzLc4dXNN"
      },
      "source": [
        "####CleanedText2, without custom stop words"
      ]
    },
    {
      "cell_type": "code",
      "metadata": {
        "colab": {
          "base_uri": "https://localhost:8080/",
          "height": 197
        },
        "id": "30X3xdE-djgM",
        "outputId": "f66b046e-0b7b-4a13-be3a-507a46e34c7a"
      },
      "source": [
        "new_data2.head()"
      ],
      "execution_count": 29,
      "outputs": [
        {
          "output_type": "execute_result",
          "data": {
            "text/html": [
              "<div>\n",
              "<style scoped>\n",
              "    .dataframe tbody tr th:only-of-type {\n",
              "        vertical-align: middle;\n",
              "    }\n",
              "\n",
              "    .dataframe tbody tr th {\n",
              "        vertical-align: top;\n",
              "    }\n",
              "\n",
              "    .dataframe thead th {\n",
              "        text-align: right;\n",
              "    }\n",
              "</style>\n",
              "<table border=\"1\" class=\"dataframe\">\n",
              "  <thead>\n",
              "    <tr style=\"text-align: right;\">\n",
              "      <th></th>\n",
              "      <th>ID</th>\n",
              "      <th>image id</th>\n",
              "      <th>label</th>\n",
              "      <th>text</th>\n",
              "    </tr>\n",
              "  </thead>\n",
              "  <tbody>\n",
              "    <tr>\n",
              "      <th>0</th>\n",
              "      <td>1</td>\n",
              "      <td>image_2455.jpg</td>\n",
              "      <td>2</td>\n",
              "      <td>not fight not part world no not even book</td>\n",
              "    </tr>\n",
              "    <tr>\n",
              "      <th>1</th>\n",
              "      <td>2</td>\n",
              "      <td>image_3701.jpg</td>\n",
              "      <td>0</td>\n",
              "      <td>that' differ wanna lose small wanna win big ha...</td>\n",
              "    </tr>\n",
              "    <tr>\n",
              "      <th>2</th>\n",
              "      <td>3</td>\n",
              "      <td>image_4166.png</td>\n",
              "      <td>0</td>\n",
              "      <td>titan sixth sens common made fumat ici dead pe...</td>\n",
              "    </tr>\n",
              "    <tr>\n",
              "      <th>3</th>\n",
              "      <td>4</td>\n",
              "      <td>448_image_batch_2.png</td>\n",
              "      <td>2</td>\n",
              "      <td>come man know thing just ask wife joe dog face...</td>\n",
              "    </tr>\n",
              "    <tr>\n",
              "      <th>4</th>\n",
              "      <td>5</td>\n",
              "      <td>653_image_batch_2.png</td>\n",
              "      <td>0</td>\n",
              "      <td>believ without reason cannot convinc reason ja...</td>\n",
              "    </tr>\n",
              "  </tbody>\n",
              "</table>\n",
              "</div>"
            ],
            "text/plain": [
              "   ID  ...                                               text\n",
              "0   1  ...          not fight not part world no not even book\n",
              "1   2  ...  that' differ wanna lose small wanna win big ha...\n",
              "2   3  ...  titan sixth sens common made fumat ici dead pe...\n",
              "3   4  ...  come man know thing just ask wife joe dog face...\n",
              "4   5  ...  believ without reason cannot convinc reason ja...\n",
              "\n",
              "[5 rows x 4 columns]"
            ]
          },
          "metadata": {
            "tags": []
          },
          "execution_count": 29
        }
      ]
    },
    {
      "cell_type": "markdown",
      "metadata": {
        "id": "7S3lgPPHewhr"
      },
      "source": [
        "####CleanedText3, without all stop words"
      ]
    },
    {
      "cell_type": "code",
      "metadata": {
        "colab": {
          "base_uri": "https://localhost:8080/",
          "height": 197
        },
        "id": "mu3rD_BGdr_E",
        "outputId": "1ef06249-411b-4678-9ed0-d5884fb274f1"
      },
      "source": [
        "new_data3.head()"
      ],
      "execution_count": 33,
      "outputs": [
        {
          "output_type": "execute_result",
          "data": {
            "text/html": [
              "<div>\n",
              "<style scoped>\n",
              "    .dataframe tbody tr th:only-of-type {\n",
              "        vertical-align: middle;\n",
              "    }\n",
              "\n",
              "    .dataframe tbody tr th {\n",
              "        vertical-align: top;\n",
              "    }\n",
              "\n",
              "    .dataframe thead th {\n",
              "        text-align: right;\n",
              "    }\n",
              "</style>\n",
              "<table border=\"1\" class=\"dataframe\">\n",
              "  <thead>\n",
              "    <tr style=\"text-align: right;\">\n",
              "      <th></th>\n",
              "      <th>ID</th>\n",
              "      <th>image id</th>\n",
              "      <th>label</th>\n",
              "      <th>text</th>\n",
              "    </tr>\n",
              "  </thead>\n",
              "  <tbody>\n",
              "    <tr>\n",
              "      <th>0</th>\n",
              "      <td>1</td>\n",
              "      <td>image_2455.jpg</td>\n",
              "      <td>2</td>\n",
              "      <td>fight part world even book</td>\n",
              "    </tr>\n",
              "    <tr>\n",
              "      <th>1</th>\n",
              "      <td>2</td>\n",
              "      <td>image_3701.jpg</td>\n",
              "      <td>0</td>\n",
              "      <td>that' differ wanna lose small wanna win big ha...</td>\n",
              "    </tr>\n",
              "    <tr>\n",
              "      <th>2</th>\n",
              "      <td>3</td>\n",
              "      <td>image_4166.png</td>\n",
              "      <td>0</td>\n",
              "      <td>titan sixth sens common made fumat ici dead pe...</td>\n",
              "    </tr>\n",
              "    <tr>\n",
              "      <th>3</th>\n",
              "      <td>4</td>\n",
              "      <td>448_image_batch_2.png</td>\n",
              "      <td>2</td>\n",
              "      <td>come man know thing ask wife joe dog face poni</td>\n",
              "    </tr>\n",
              "    <tr>\n",
              "      <th>4</th>\n",
              "      <td>5</td>\n",
              "      <td>653_image_batch_2.png</td>\n",
              "      <td>0</td>\n",
              "      <td>believ without reason cannot convinc reason ja...</td>\n",
              "    </tr>\n",
              "  </tbody>\n",
              "</table>\n",
              "</div>"
            ],
            "text/plain": [
              "   ID  ...                                               text\n",
              "0   1  ...                         fight part world even book\n",
              "1   2  ...  that' differ wanna lose small wanna win big ha...\n",
              "2   3  ...  titan sixth sens common made fumat ici dead pe...\n",
              "3   4  ...     come man know thing ask wife joe dog face poni\n",
              "4   5  ...  believ without reason cannot convinc reason ja...\n",
              "\n",
              "[5 rows x 4 columns]"
            ]
          },
          "metadata": {
            "tags": []
          },
          "execution_count": 33
        }
      ]
    },
    {
      "cell_type": "markdown",
      "metadata": {
        "id": "QJGHvxdEfemk"
      },
      "source": [
        "#Simple Classifier using nltk sentiment analyser"
      ]
    },
    {
      "cell_type": "code",
      "metadata": {
        "colab": {
          "base_uri": "https://localhost:8080/"
        },
        "id": "or8JMjt0fjza",
        "outputId": "5305f938-59f6-4c6f-9671-81c3dfba1cb1"
      },
      "source": [
        "## Humorous/Positive if score > 0.01\n",
        "## Troll/Negative if score < -0.01\n",
        "## None otherwise(score in [-0.1, 0.1])\n",
        "\n",
        "nltk.download('vader_lexicon')\n",
        "from nltk.sentiment import SentimentIntensityAnalyzer\n",
        "analyser = SentimentIntensityAnalyzer()\n",
        "def SentimentAnalyzerLabel(text):\n",
        "    \n",
        "    sentiment_dict = analyser.polarity_scores(text) \n",
        "    \n",
        "    if sentiment_dict['compound'] > 0.01 : \n",
        "        return 1 # Positive/ Humerous\n",
        "  \n",
        "    elif sentiment_dict['compound'] < - 0.01 : \n",
        "        return 2 # Troll / Negative\n",
        "  \n",
        "    else : \n",
        "        return 0 # Neutral\n",
        "\n",
        "acc1 = [] # Accuracy of models on CleanText1\n",
        "acc2 = [] # Accuracy of models on CleanText2\n",
        "acc3 = [] # Accuracy of models on CleanText3\n",
        "f1_score1 = []\n",
        "f1_score2 = []\n",
        "f1_score3 = []\n",
        "\n",
        "new_data1['Snt Ana Label'] = new_data1['text'].apply(SentimentAnalyzerLabel)\n",
        "acc1.append(new_data1.loc[new_data1['label'] == new_data1['Snt Ana Label']].shape[0] * 100 / new_data1.shape[0])\n",
        "new_data2['Snt Ana Label'] = new_data2['text'].apply(SentimentAnalyzerLabel)\n",
        "acc2.append(new_data2.loc[new_data2['label'] == new_data2['Snt Ana Label']].shape[0] * 100 / new_data2.shape[0])\n",
        "new_data3['Snt Ana Label'] = new_data3['text'].apply(SentimentAnalyzerLabel)\n",
        "acc3.append(new_data3.loc[new_data3['label'] == new_data3['Snt Ana Label']].shape[0] * 100 / new_data3.shape[0])\n",
        "\n",
        "from sklearn.metrics import f1_score\n",
        "f1_score1.append(f1_score(new_data1['label'], new_data1['Snt Ana Label'], average='weighted'))\n",
        "f1_score2.append(f1_score(new_data2['label'], new_data2['Snt Ana Label'], average='weighted'))\n",
        "f1_score3.append(f1_score(new_data3['label'], new_data3['Snt Ana Label'], average='weighted'))"
      ],
      "execution_count": 89,
      "outputs": [
        {
          "output_type": "stream",
          "text": [
            "[nltk_data] Downloading package vader_lexicon to /root/nltk_data...\n",
            "[nltk_data]   Package vader_lexicon is already up-to-date!\n"
          ],
          "name": "stdout"
        }
      ]
    },
    {
      "cell_type": "code",
      "metadata": {
        "colab": {
          "base_uri": "https://localhost:8080/"
        },
        "id": "wBmb35BrquLk",
        "outputId": "fe2348d1-dc2f-4abe-f2d1-95e20c2c8bb4"
      },
      "source": [
        ""
      ],
      "execution_count": 92,
      "outputs": [
        {
          "output_type": "execute_result",
          "data": {
            "text/plain": [
              "([0.3492376730578233], [0.34232533340691684], [0.3487033082043682])"
            ]
          },
          "metadata": {
            "tags": []
          },
          "execution_count": 92
        }
      ]
    },
    {
      "cell_type": "markdown",
      "metadata": {
        "id": "4_1ZGNjNhmXa"
      },
      "source": [
        "#Simple SVM Models"
      ]
    },
    {
      "cell_type": "code",
      "metadata": {
        "id": "ToRNy9PThvFj"
      },
      "source": [
        "from sklearn.svm import SVC\n",
        "from sklearn.metrics import accuracy_score\n",
        "from sklearn.model_selection import train_test_split\n",
        "from sklearn.metrics import classification_report, confusion_matrix\n",
        "from sklearn import metrics\n",
        "from sklearn.naive_bayes import MultinomialNB\n",
        "from sklearn.metrics import accuracy_score\n",
        "from sklearn.model_selection import train_test_split\n",
        "from sklearn.metrics import classification_report, confusion_matrix\n",
        "from sklearn import metrics\n",
        "from sklearn.feature_extraction.text import TfidfVectorizer\n",
        "\n",
        "#Train Test split of 3 datasets\n",
        "\n",
        "X1 = new_data1['text'].values\n",
        "X2 = new_data2['text'].values\n",
        "X3 = new_data3['text'].values\n",
        "y = data['label_num'].values\n",
        "X1_train, X1_test, y1_train, y1_test = train_test_split(X1, y , test_size = 0.2, random_state = 42)\n",
        "X2_train, X2_test, y2_train, y2_test = train_test_split(X2, y , test_size = 0.2, random_state = 42)\n",
        "X3_train, X3_test, y3_train, y3_test = train_test_split(X3, y , test_size = 0.2, random_state = 42)"
      ],
      "execution_count": 79,
      "outputs": []
    },
    {
      "cell_type": "markdown",
      "metadata": {
        "id": "YWpTM22Ih6aK"
      },
      "source": [
        "###SVM classifier on uni-gram split of text"
      ]
    },
    {
      "cell_type": "code",
      "metadata": {
        "id": "rsCmRN5PiAmB"
      },
      "source": [
        "tfidf_vectorizer_uni = TfidfVectorizer(max_features=3000)\n",
        "X_train_tfidf_uni = tfidf_vectorizer_uni.fit_transform(X1_train)\n",
        "X_test_tfidf_uni = tfidf_vectorizer_uni.transform(X1_test)\n",
        "svclassifier = SVC(C=1.0, kernel='linear', gamma='auto')\n",
        "svclassifier.fit(X_train_tfidf_uni, y1_train)\n",
        "predictions_SVM_uni = svclassifier.predict(X_test_tfidf_uni)\n",
        "acc1.append(accuracy_score(predictions_SVM_uni, y1_test)*100)\n",
        "f1_score1.append(f1_score(predictions_SVM,y1_test, average='weighted'))\n",
        "\n",
        "X_train_tfidf_uni = tfidf_vectorizer_uni.fit_transform(X2_train)\n",
        "X_test_tfidf_uni = tfidf_vectorizer_uni.transform(X2_test)\n",
        "svclassifier = SVC(C=1.0, kernel='linear', gamma='auto')\n",
        "svclassifier.fit(X_train_tfidf_uni, y2_train)\n",
        "predictions_SVM_uni = svclassifier.predict(X_test_tfidf_uni)\n",
        "acc2.append(accuracy_score(predictions_SVM_uni, y2_test)*100)\n",
        "f1_score2.append(f1_score(predictions_SVM,y2_test, average='weighted'))\n",
        "\n",
        "\n",
        "X_train_tfidf_uni = tfidf_vectorizer_uni.fit_transform(X3_train)\n",
        "X_test_tfidf_uni = tfidf_vectorizer_uni.transform(X3_test)\n",
        "svclassifier = SVC(C=1.0, kernel='linear', gamma='auto')\n",
        "svclassifier.fit(X_train_tfidf_uni, y3_train)\n",
        "predictions_SVM_uni = svclassifier.predict(X_test_tfidf_uni)\n",
        "acc3.append(accuracy_score(predictions_SVM_uni, y3_test)*100)\n",
        "f1_score3.append(f1_score(predictions_SVM,y3_test, average='weighted'))\n"
      ],
      "execution_count": 93,
      "outputs": []
    },
    {
      "cell_type": "markdown",
      "metadata": {
        "id": "ZZavcZ62lho7"
      },
      "source": [
        "##SVM classifier on bi-gram split of text"
      ]
    },
    {
      "cell_type": "code",
      "metadata": {
        "id": "StCTGYXqld_2"
      },
      "source": [
        "tfidf_vectorizer_bi = TfidfVectorizer(ngram_range=(2,2), max_features=10000)\n",
        "X_train_tfidf_bi = tfidf_vectorizer_bi1.fit_transform(X1_train)\n",
        "X_test_tfidf_b1 = tfidf_vectorizer_bi1.transform(X1_test)\n",
        "svclassifier = SVC(C=1.0, kernel='linear', gamma='auto')\n",
        "svclassifier.fit(X_train_tfidf_bi, y1_train)\n",
        "predictions_SVM = svclassifier.predict(X_test_tfidf_bi1)\n",
        "acc1.append(accuracy_score(predictions_SVM, y1_test)*100)\n",
        "f1_score1.append(f1_score(predictions_SVM,y1_test, average='weighted'))\n",
        "\n",
        "\n",
        "X_train_tfidf_bi1 = tfidf_vectorizer_bi1.fit_transform(X2_train)\n",
        "X_test_tfidf_bi1 = tfidf_vectorizer_bi1.transform(X2_test)\n",
        "svclassifier = SVC(C=1.0, kernel='linear', gamma='auto')\n",
        "svclassifier.fit(X_train_tfidf_bi1, y2_train)\n",
        "predictions_SVM = svclassifier.predict(X_test_tfidf_bi1)\n",
        "acc2.append(accuracy_score(predictions_SVM, y2_test)*100)\n",
        "f1_score2.append(f1_score(predictions_SVM,y2_test, average='weighted'))\n",
        "\n",
        "\n",
        "X_train_tfidf_bi1 = tfidf_vectorizer_bi1.fit_transform(X3_train)\n",
        "X_test_tfidf_bi1 = tfidf_vectorizer_bi1.transform(X3_test)\n",
        "svclassifier = SVC(C=1.0, kernel='linear', gamma='auto')\n",
        "svclassifier.fit(X_train_tfidf_bi1, y3_train)\n",
        "predictions_SVM = svclassifier.predict(X_test_tfidf_bi1)\n",
        "acc3.append(accuracy_score(predictions_SVM, y3_test)*100)\n",
        "f1_score3.append(f1_score(predictions_SVM,y3_test, average='weighted'))\n",
        "\n",
        "\n",
        "\n"
      ],
      "execution_count": 97,
      "outputs": []
    },
    {
      "cell_type": "markdown",
      "metadata": {
        "id": "ZYw-_3dpmsab"
      },
      "source": [
        "##SVM classifier on tri-gram split of text"
      ]
    },
    {
      "cell_type": "code",
      "metadata": {
        "id": "QEnsiN12myAM"
      },
      "source": [
        "tfidf_vectorizer_tri = TfidfVectorizer(ngram_range=(3,3), max_features=10000)\n",
        "X_train_tfidf_tri = tfidf_vectorizer_tri.fit_transform(X1_train)\n",
        "X_test_tfidf_tri = tfidf_vectorizer_tri.transform(X1_test)\n",
        "svclassifier = SVC(kernel='linear', gamma='auto')\n",
        "svclassifier.fit(X_train_tfidf_tri, y1_train)\n",
        "predictions_SVM = svclassifier.predict(X_test_tfidf_tri)\n",
        "acc1.append(accuracy_score(predictions_SVM, y1_test)*100)\n",
        "f1_score1.append(f1_score(predictions_SVM,y1_test, average='weighted'))\n",
        "\n",
        "X_train_tfidf_tri = tfidf_vectorizer_tri.fit_transform(X2_train)\n",
        "X_test_tfidf_tri = tfidf_vectorizer_tri.transform(X2_test)\n",
        "svclassifier = SVC(kernel='linear', gamma='auto')\n",
        "svclassifier.fit(X_train_tfidf_tri, y2_train)\n",
        "predictions_SVM = svclassifier.predict(X_test_tfidf_tri)\n",
        "acc2.append(accuracy_score(predictions_SVM, y2_test)*100)\n",
        "f1_score2.append(f1_score(predictions_SVM,y2_test, average='weighted'))\n",
        "\n",
        "X_train_tfidf_tri = tfidf_vectorizer_tri.fit_transform(X3_train)\n",
        "X_test_tfidf_tri = tfidf_vectorizer_tri.transform(X3_test)\n",
        "svclassifier = SVC(kernel='linear',gamma='auto')\n",
        "svclassifier.fit(X_train_tfidf_tri, y3_train)\n",
        "predictions_SVM = svclassifier.predict(X_test_tfidf_tri)\n",
        "acc3.append(accuracy_score(predictions_SVM, y3_test)*100)\n",
        "f1_score3.append(f1_score(predictions_SVM,y3_test, average='weighted'))"
      ],
      "execution_count": 98,
      "outputs": []
    },
    {
      "cell_type": "markdown",
      "metadata": {
        "id": "UaStU8o5oipi"
      },
      "source": [
        "#Results and comparison\n"
      ]
    },
    {
      "cell_type": "code",
      "metadata": {
        "colab": {
          "base_uri": "https://localhost:8080/",
          "height": 185
        },
        "id": "LcYqz94vontp",
        "outputId": "89b14bd4-9452-4879-e8f4-a9d4acbaa649"
      },
      "source": [
        "models = ['NLTK-Sentiment-Analyzer', 'SVM-1gram', 'SVM-2gram', 'SVM-3gram']\n",
        "model_test_scores = pd.DataFrame(list(zip(models,acc1,acc2,acc3)), columns = ['model', \\\n",
        "                                'w all stop words', 'w/o custom stop words', 'w/o all stop words'])\n",
        "display(\"Accuracy\",model_test_scores.head())"
      ],
      "execution_count": 99,
      "outputs": [
        {
          "output_type": "display_data",
          "data": {
            "application/vnd.google.colaboratory.intrinsic+json": {
              "type": "string"
            },
            "text/plain": [
              "'Accuracy'"
            ]
          },
          "metadata": {
            "tags": []
          }
        },
        {
          "output_type": "display_data",
          "data": {
            "text/html": [
              "<div>\n",
              "<style scoped>\n",
              "    .dataframe tbody tr th:only-of-type {\n",
              "        vertical-align: middle;\n",
              "    }\n",
              "\n",
              "    .dataframe tbody tr th {\n",
              "        vertical-align: top;\n",
              "    }\n",
              "\n",
              "    .dataframe thead th {\n",
              "        text-align: right;\n",
              "    }\n",
              "</style>\n",
              "<table border=\"1\" class=\"dataframe\">\n",
              "  <thead>\n",
              "    <tr style=\"text-align: right;\">\n",
              "      <th></th>\n",
              "      <th>model</th>\n",
              "      <th>w all stop words</th>\n",
              "      <th>w/o custom stop words</th>\n",
              "      <th>w/o all stop words</th>\n",
              "    </tr>\n",
              "  </thead>\n",
              "  <tbody>\n",
              "    <tr>\n",
              "      <th>0</th>\n",
              "      <td>NLTK-Sentiment-Analyzer</td>\n",
              "      <td>34.856856</td>\n",
              "      <td>34.203918</td>\n",
              "      <td>34.806630</td>\n",
              "    </tr>\n",
              "    <tr>\n",
              "      <th>1</th>\n",
              "      <td>SVM-1gram</td>\n",
              "      <td>41.102757</td>\n",
              "      <td>38.847118</td>\n",
              "      <td>39.598997</td>\n",
              "    </tr>\n",
              "    <tr>\n",
              "      <th>2</th>\n",
              "      <td>SVM-2gram</td>\n",
              "      <td>38.345865</td>\n",
              "      <td>36.340852</td>\n",
              "      <td>36.591479</td>\n",
              "    </tr>\n",
              "    <tr>\n",
              "      <th>3</th>\n",
              "      <td>SVM-3gram</td>\n",
              "      <td>36.842105</td>\n",
              "      <td>37.844612</td>\n",
              "      <td>37.844612</td>\n",
              "    </tr>\n",
              "  </tbody>\n",
              "</table>\n",
              "</div>"
            ],
            "text/plain": [
              "                     model  ...  w/o all stop words\n",
              "0  NLTK-Sentiment-Analyzer  ...           34.806630\n",
              "1                SVM-1gram  ...           39.598997\n",
              "2                SVM-2gram  ...           36.591479\n",
              "3                SVM-3gram  ...           37.844612\n",
              "\n",
              "[4 rows x 4 columns]"
            ]
          },
          "metadata": {
            "tags": []
          }
        }
      ]
    },
    {
      "cell_type": "code",
      "metadata": {
        "colab": {
          "base_uri": "https://localhost:8080/",
          "height": 185
        },
        "id": "fQKYlgTmrU2T",
        "outputId": "a089649d-4eb6-4830-ed2f-03b816a9e8cf"
      },
      "source": [
        "models = ['NLTK-Sentiment-Analyzer', 'SVM-1gram', 'SVM-2gram', 'SVM-3gram']\n",
        "model_test_scores = pd.DataFrame(list(zip(models,f1_score1,f1_score2,f1_score3)), columns = ['model', \\\n",
        "                                'w all stop words', 'w/o custom stop words', 'w/o all stop words'])\n",
        "display('f1-score',model_test_scores.head())"
      ],
      "execution_count": 101,
      "outputs": [
        {
          "output_type": "display_data",
          "data": {
            "application/vnd.google.colaboratory.intrinsic+json": {
              "type": "string"
            },
            "text/plain": [
              "'f1-score'"
            ]
          },
          "metadata": {
            "tags": []
          }
        },
        {
          "output_type": "display_data",
          "data": {
            "text/html": [
              "<div>\n",
              "<style scoped>\n",
              "    .dataframe tbody tr th:only-of-type {\n",
              "        vertical-align: middle;\n",
              "    }\n",
              "\n",
              "    .dataframe tbody tr th {\n",
              "        vertical-align: top;\n",
              "    }\n",
              "\n",
              "    .dataframe thead th {\n",
              "        text-align: right;\n",
              "    }\n",
              "</style>\n",
              "<table border=\"1\" class=\"dataframe\">\n",
              "  <thead>\n",
              "    <tr style=\"text-align: right;\">\n",
              "      <th></th>\n",
              "      <th>model</th>\n",
              "      <th>w all stop words</th>\n",
              "      <th>w/o custom stop words</th>\n",
              "      <th>w/o all stop words</th>\n",
              "    </tr>\n",
              "  </thead>\n",
              "  <tbody>\n",
              "    <tr>\n",
              "      <th>0</th>\n",
              "      <td>NLTK-Sentiment-Analyzer</td>\n",
              "      <td>0.349238</td>\n",
              "      <td>0.342325</td>\n",
              "      <td>0.348703</td>\n",
              "    </tr>\n",
              "    <tr>\n",
              "      <th>1</th>\n",
              "      <td>SVM-1gram</td>\n",
              "      <td>0.517917</td>\n",
              "      <td>0.517917</td>\n",
              "      <td>0.517917</td>\n",
              "    </tr>\n",
              "    <tr>\n",
              "      <th>2</th>\n",
              "      <td>SVM-2gram</td>\n",
              "      <td>0.438116</td>\n",
              "      <td>0.406238</td>\n",
              "      <td>0.416492</td>\n",
              "    </tr>\n",
              "    <tr>\n",
              "      <th>3</th>\n",
              "      <td>SVM-3gram</td>\n",
              "      <td>0.427224</td>\n",
              "      <td>0.514291</td>\n",
              "      <td>0.517917</td>\n",
              "    </tr>\n",
              "  </tbody>\n",
              "</table>\n",
              "</div>"
            ],
            "text/plain": [
              "                     model  ...  w/o all stop words\n",
              "0  NLTK-Sentiment-Analyzer  ...            0.348703\n",
              "1                SVM-1gram  ...            0.517917\n",
              "2                SVM-2gram  ...            0.416492\n",
              "3                SVM-3gram  ...            0.517917\n",
              "\n",
              "[4 rows x 4 columns]"
            ]
          },
          "metadata": {
            "tags": []
          }
        }
      ]
    }
  ]
}